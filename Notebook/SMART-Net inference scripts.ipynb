{
 "cells": [
  {
   "cell_type": "code",
   "execution_count": null,
   "id": "specified-indiana",
   "metadata": {},
   "outputs": [],
   "source": [
    "import glob"
   ]
  },
  {
   "cell_type": "code",
   "execution_count": null,
   "id": "young-convergence",
   "metadata": {},
   "outputs": [],
   "source": [
    "image_list = sorted(glob.glob('/workspace/sunggu/1.Hemorrhage/SMART-Net/datasets/Images/*.nii'))\n",
    "label_list = sorted(glob.glob('/workspace/sunggu/1.Hemorrhage/SMART-Net/datasets/Labels/*.nii'))"
   ]
  },
  {
   "cell_type": "code",
   "execution_count": null,
   "id": "great-pennsylvania",
   "metadata": {},
   "outputs": [],
   "source": [
    "image_saver = SaveImage(output_dir='/workspace/sunggu/1.Hemorrhage/SMART-Net/datasets/new_image', \n",
    "                output_postfix='Image', \n",
    "                output_ext='.nii.gz', \n",
    "                resample=True, \n",
    "                mode='bilinear', \n",
    "                squeeze_end_dims=True, \n",
    "                data_root_dir='', \n",
    "                separate_folder=False, \n",
    "                print_log=True)\n",
    "\n",
    "label_saver = SaveImage(output_dir='/workspace/sunggu/1.Hemorrhage/SMART-Net/datasets/new_label', \n",
    "                output_postfix='label', \n",
    "                output_ext='.nii.gz', \n",
    "                resample=True, \n",
    "                mode='nearest', \n",
    "                squeeze_end_dims=True, \n",
    "                data_root_dir='', \n",
    "                separate_folder=False, \n",
    "                print_log=True)"
   ]
  },
  {
   "cell_type": "code",
   "execution_count": null,
   "id": "pressed-confusion",
   "metadata": {},
   "outputs": [],
   "source": [
    "from monai.transforms import *\n",
    "\n",
    "for image_p, label_p in zip(image_list, label_list):\n",
    "\n",
    "    # Load nii data\n",
    "    image_p, img_meta = LoadImage()(image_p)\n",
    "    image_p = AddChannel()(image_p)\n",
    "    \n",
    "    label_p, label_meta = LoadImage()(label_p)\n",
    "    label_p = AddChannel()(label_p)\n",
    "    \n",
    "    if label_p.max() == 0:\n",
    "        img_meta['filename_or_obj']   = img_meta['filename_or_obj'].replace('.nii', '_normal_img.nii')\n",
    "        label_meta['filename_or_obj'] = label_meta['filename_or_obj'].replace('.nii', '_normal_mask.nii')\n",
    "    else :\n",
    "        img_meta['filename_or_obj']   = img_meta['filename_or_obj'].replace('.nii', '_hemo_img.nii')\n",
    "        label_meta['filename_or_obj'] = label_meta['filename_or_obj'].replace('.nii', '_hemo_mask.nii')\n",
    "                \n",
    "    image_saver(image_p, img_meta)    # Note: image should be channel-first shape: [C,H,W,[D]].\n",
    "    label_saver(label_p.astype('bool').astype('float'), label_meta)    # Note: image should be channel-first shape: [C,H,W,[D]].\n"
   ]
  },
  {
   "cell_type": "code",
   "execution_count": null,
   "id": "chinese-store",
   "metadata": {},
   "outputs": [],
   "source": []
  },
  {
   "cell_type": "code",
   "execution_count": null,
   "id": "persistent-singer",
   "metadata": {
    "scrolled": false
   },
   "outputs": [],
   "source": [
    "!nvidia-smi"
   ]
  },
  {
   "cell_type": "code",
   "execution_count": null,
   "id": "caring-victim",
   "metadata": {
    "scrolled": true
   },
   "outputs": [],
   "source": [
    "pwd"
   ]
  },
  {
   "cell_type": "code",
   "execution_count": null,
   "id": "characteristic-opportunity",
   "metadata": {},
   "outputs": [],
   "source": [
    "cd '/workspace/sunggu/1.Hemorrhage/SMART-Net/'"
   ]
  },
  {
   "cell_type": "markdown",
   "id": "sitting-population",
   "metadata": {},
   "source": [
    "# Upstream"
   ]
  },
  {
   "cell_type": "markdown",
   "id": "heavy-driver",
   "metadata": {},
   "source": [
    "## SMART-Net"
   ]
  },
  {
   "cell_type": "code",
   "execution_count": null,
   "id": "bulgarian-style",
   "metadata": {},
   "outputs": [],
   "source": [
    "!python inference.py \\\n",
    "--data-folder-dir '/workspace/sunggu/1.Hemorrhage/SMART-Net/datasets/samples' \\\n",
    "--test-dataset-name 'Custom' \\\n",
    "--slice-wise-manner \"True\" \\\n",
    "--model-name 'Up_SMART_Net' \\\n",
    "--num-workers 4 \\\n",
    "--pin-mem \\\n",
    "--training-stream 'Upstream' \\\n",
    "--multi-gpu-mode 'Single' \\\n",
    "--cuda-visible-devices '2' \\\n",
    "--print-freq 1 \\\n",
    "--output-dir '/workspace/sunggu/1.Hemorrhage/SMART-Net/checkpoints/up_test' \\\n",
    "--resume '/workspace/sunggu/1.Hemorrhage/SMART-Net/checkpoints/up_test/epoch_0_checkpoint.pth'\n"
   ]
  },
  {
   "cell_type": "code",
   "execution_count": null,
   "id": "swiss-withdrawal",
   "metadata": {},
   "outputs": [],
   "source": []
  },
  {
   "cell_type": "markdown",
   "id": "wicked-lecture",
   "metadata": {},
   "source": [
    "# Downstream"
   ]
  },
  {
   "cell_type": "markdown",
   "id": "static-swing",
   "metadata": {},
   "source": [
    "## Down_SMART_Net_CLS"
   ]
  },
  {
   "cell_type": "code",
   "execution_count": null,
   "id": "according-paste",
   "metadata": {},
   "outputs": [],
   "source": [
    "!python inference.py \\\n",
    "--data-folder-dir '/workspace/sunggu/1.Hemorrhage/SMART-Net/datasets/samples' \\\n",
    "--test-dataset-name 'Custom' \\\n",
    "--slice-wise-manner \"False\" \\\n",
    "--model-name 'Down_SMART_Net_CLS' \\\n",
    "--num-workers 4 \\\n",
    "--pin-mem \\\n",
    "--training-stream 'Downstream' \\\n",
    "--multi-gpu-mode 'Single' \\\n",
    "--cuda-visible-devices '2' \\\n",
    "--print-freq 1 \\\n",
    "--output-dir '/workspace/sunggu/1.Hemorrhage/SMART-Net/checkpoints/down_cls_test' \\\n",
    "--resume '/workspace/sunggu/1.Hemorrhage/SMART-Net/checkpoints/down_cls_test/epoch_0_checkpoint.pth'\n"
   ]
  },
  {
   "cell_type": "code",
   "execution_count": null,
   "id": "diagnostic-preserve",
   "metadata": {},
   "outputs": [],
   "source": []
  },
  {
   "cell_type": "markdown",
   "id": "therapeutic-adrian",
   "metadata": {},
   "source": [
    "## Down_SMART_Net_SEG"
   ]
  },
  {
   "cell_type": "code",
   "execution_count": null,
   "id": "auburn-kuwait",
   "metadata": {
    "scrolled": true
   },
   "outputs": [],
   "source": [
    "!python inference.py \\\n",
    "--data-folder-dir '/workspace/sunggu/1.Hemorrhage/SMART-Net/datasets/samples' \\\n",
    "--test-dataset-name 'Custom' \\\n",
    "--slice-wise-manner \"False\" \\\n",
    "--model-name 'Down_SMART_Net_SEG' \\\n",
    "--num-workers 4 \\\n",
    "--pin-mem \\\n",
    "--training-stream 'Downstream' \\\n",
    "--multi-gpu-mode 'Single' \\\n",
    "--cuda-visible-devices '2' \\\n",
    "--print-freq 1 \\\n",
    "--output-dir '/workspace/sunggu/1.Hemorrhage/SMART-Net/checkpoints/down_seg_test/pred_nii' \\\n",
    "--resume '/workspace/sunggu/1.Hemorrhage/SMART-Net/checkpoints/down_seg_test/epoch_0_checkpoint.pth'\n"
   ]
  },
  {
   "cell_type": "code",
   "execution_count": null,
   "id": "baking-thompson",
   "metadata": {},
   "outputs": [],
   "source": []
  },
  {
   "cell_type": "code",
   "execution_count": null,
   "id": "wanted-baking",
   "metadata": {},
   "outputs": [],
   "source": []
  },
  {
   "cell_type": "code",
   "execution_count": null,
   "id": "concerned-hawaiian",
   "metadata": {},
   "outputs": [],
   "source": []
  },
  {
   "cell_type": "markdown",
   "id": "institutional-third",
   "metadata": {},
   "source": [
    "# Log Analysis"
   ]
  },
  {
   "cell_type": "code",
   "execution_count": null,
   "id": "intelligent-norfolk",
   "metadata": {},
   "outputs": [],
   "source": [
    "import matplotlib.pyplot as plt \n",
    "import glob\n",
    "\n",
    "\n",
    "def read_log(path):\n",
    "    log_list = []\n",
    "    lines = open(path, 'r').read().splitlines() \n",
    "    for i in range(len(lines)):\n",
    "        exec('log_list.append('+lines[i] + ')')\n",
    "    return  log_list"
   ]
  },
  {
   "cell_type": "code",
   "execution_count": null,
   "id": "hindu-solomon",
   "metadata": {},
   "outputs": [],
   "source": [
    "log_list = read_log(path = './log.txt')"
   ]
  },
  {
   "cell_type": "code",
   "execution_count": null,
   "id": "external-stupid",
   "metadata": {},
   "outputs": [],
   "source": [
    "log_list"
   ]
  },
  {
   "cell_type": "code",
   "execution_count": null,
   "id": "handmade-publicity",
   "metadata": {},
   "outputs": [],
   "source": [
    "train_lr   = [ log_list[i]['train_lr'] for i in range(len(log_list)) ]\n",
    "train_loss = [ log_list[i]['train_loss'] for i in range(len(log_list)) ]\n",
    "valid_loss = [ log_list[i]['valid_loss'] for i in range(len(log_list)) ]\n",
    "valid_AUC  = [ log_list[i]['valid_AUC'] for i in range(len(log_list)) ]\n",
    "valid_Acc  = [ log_list[i]['valid_Acc'] for i in range(len(log_list)) ]\n",
    "valid_Sen  = [ log_list[i]['valid_Sen'] for i in range(len(log_list)) ]\n",
    "valid_Spe  = [ log_list[i]['valid_Spe'] for i in range(len(log_list)) ]\n",
    "epoch      = [ log_list[i]['epoch'] for i in range(len(log_list)) ]"
   ]
  },
  {
   "cell_type": "code",
   "execution_count": null,
   "id": "parental-minister",
   "metadata": {},
   "outputs": [],
   "source": [
    "\n",
    "\n",
    "plt.plot(train_loss)"
   ]
  },
  {
   "cell_type": "code",
   "execution_count": null,
   "id": "suspected-anaheim",
   "metadata": {},
   "outputs": [],
   "source": []
  },
  {
   "cell_type": "code",
   "execution_count": null,
   "id": "comic-voice",
   "metadata": {},
   "outputs": [],
   "source": []
  },
  {
   "cell_type": "code",
   "execution_count": null,
   "id": "ruled-southeast",
   "metadata": {},
   "outputs": [],
   "source": []
  },
  {
   "cell_type": "code",
   "execution_count": null,
   "id": "dramatic-creation",
   "metadata": {},
   "outputs": [],
   "source": []
  }
 ],
 "metadata": {
  "kernelspec": {
   "display_name": "Python 3",
   "language": "python",
   "name": "python3"
  },
  "language_info": {
   "codemirror_mode": {
    "name": "ipython",
    "version": 3
   },
   "file_extension": ".py",
   "mimetype": "text/x-python",
   "name": "python",
   "nbconvert_exporter": "python",
   "pygments_lexer": "ipython3",
   "version": "3.6.9"
  },
  "toc": {
   "base_numbering": 1,
   "nav_menu": {},
   "number_sections": true,
   "sideBar": true,
   "skip_h1_title": false,
   "title_cell": "Table of Contents",
   "title_sidebar": "Contents",
   "toc_cell": false,
   "toc_position": {
    "height": "calc(100% - 180px)",
    "left": "10px",
    "top": "150px",
    "width": "267.094px"
   },
   "toc_section_display": true,
   "toc_window_display": true
  }
 },
 "nbformat": 4,
 "nbformat_minor": 5
}
