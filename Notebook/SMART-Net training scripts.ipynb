{
 "cells": [
  {
   "cell_type": "code",
   "execution_count": null,
   "id": "small-country",
   "metadata": {
    "scrolled": false
   },
   "outputs": [],
   "source": [
    "!nvidia-smi"
   ]
  },
  {
   "cell_type": "code",
   "execution_count": null,
   "id": "dated-married",
   "metadata": {
    "scrolled": true
   },
   "outputs": [],
   "source": [
    "pwd"
   ]
  },
  {
   "cell_type": "code",
   "execution_count": null,
   "id": "integral-north",
   "metadata": {},
   "outputs": [],
   "source": [
    "cd '/workspace/sunggu/1.Hemorrhage/SMART-Net/'"
   ]
  },
  {
   "cell_type": "markdown",
   "id": "satellite-preference",
   "metadata": {},
   "source": [
    "# Upstream"
   ]
  },
  {
   "cell_type": "markdown",
   "id": "extraordinary-transformation",
   "metadata": {},
   "source": [
    "## SMART-Net"
   ]
  },
  {
   "cell_type": "code",
   "execution_count": null,
   "id": "biblical-johnson",
   "metadata": {},
   "outputs": [],
   "source": [
    "!python train.py \\\n",
    "--data-folder-dir '/workspace/sunggu/1.Hemorrhage/SMART-Net/datasets/samples' \\\n",
    "--model-name 'Up_SMART_Net' \\\n",
    "--batch-size 20 \\\n",
    "--epochs 1000 \\\n",
    "--num-workers 4 \\\n",
    "--pin-mem \\\n",
    "--training-stream 'Upstream' \\\n",
    "--multi-gpu-mode 'DataParallel' \\\n",
    "--cuda-visible-devices '2, 3' \\\n",
    "--gradual-unfreeze 'True' \\\n",
    "--print-freq 1 \\\n",
    "--output-dir '/workspace/sunggu/1.Hemorrhage/SMART-Net/checkpoints/up_test'"
   ]
  },
  {
   "cell_type": "code",
   "execution_count": null,
   "id": "removed-rapid",
   "metadata": {},
   "outputs": [],
   "source": []
  },
  {
   "cell_type": "markdown",
   "id": "aggressive-mobility",
   "metadata": {},
   "source": [
    "## Up_SMART_Net_Dual_CLS_SEG"
   ]
  },
  {
   "cell_type": "code",
   "execution_count": null,
   "id": "whole-parliament",
   "metadata": {
    "scrolled": true
   },
   "outputs": [],
   "source": [
    "!python train.py \\\n",
    "--data-folder-dir '/workspace/sunggu/1.Hemorrhage/SMART-Net/datasets/samples' \\\n",
    "--model-name 'Up_SMART_Net_Dual_CLS_SEG' \\\n",
    "--imbalance-dataset 'False' \\\n",
    "--batch-size 20 \\\n",
    "--epochs 1000 \\\n",
    "--num-workers 4 \\\n",
    "--pin-mem \\\n",
    "--training-stream 'Upstream' \\\n",
    "--multi-gpu-mode 'DataParallel' \\\n",
    "--cuda-visible-devices '2, 3' \\\n",
    "--gradual-unfreeze 'True' \\\n",
    "--print-freq 1 \\\n",
    "--output-dir '/workspace/sunggu/1.Hemorrhage/SMART-Net/checkpoints/up_test' \\"
   ]
  },
  {
   "cell_type": "markdown",
   "id": "brilliant-nickel",
   "metadata": {},
   "source": [
    "## Up_SMART_Net_Dual_CLS_REC"
   ]
  },
  {
   "cell_type": "code",
   "execution_count": null,
   "id": "floral-gospel",
   "metadata": {},
   "outputs": [],
   "source": [
    "!python train.py \\\n",
    "--data-folder-dir '/workspace/sunggu/1.Hemorrhage/SMART-Net/datasets/samples' \\\n",
    "--model-name 'Up_SMART_Net_Dual_CLS_REC' \\\n",
    "--batch-size 10 \\\n",
    "--epochs 1000 \\\n",
    "--num-workers 4 \\\n",
    "--pin-mem \\\n",
    "--training-stream 'Upstream' \\\n",
    "--multi-gpu-mode 'DataParallel' \\\n",
    "--cuda-visible-devices '2, 3' \\\n",
    "--gradual-unfreeze 'True' \\\n",
    "--print-freq 1 \\\n",
    "--output-dir '/workspace/sunggu/1.Hemorrhage/SMART-Net/checkpoints/up_test' \\"
   ]
  },
  {
   "cell_type": "markdown",
   "id": "elegant-caution",
   "metadata": {},
   "source": [
    "## Up_SMART_Net_Dual_SEG_REC"
   ]
  },
  {
   "cell_type": "code",
   "execution_count": null,
   "id": "excessive-ocean",
   "metadata": {},
   "outputs": [],
   "source": [
    "!python train.py \\\n",
    "--data-folder-dir '/workspace/sunggu/1.Hemorrhage/SMART-Net/datasets/samples' \\\n",
    "--model-name 'Up_SMART_Net_Dual_SEG_REC' \\\n",
    "--batch-size 10 \\\n",
    "--epochs 1000 \\\n",
    "--num-workers 4 \\\n",
    "--pin-mem \\\n",
    "--training-stream 'Upstream' \\\n",
    "--multi-gpu-mode 'DataParallel' \\\n",
    "--cuda-visible-devices '2, 3' \\\n",
    "--gradual-unfreeze 'True' \\\n",
    "--print-freq 1 \\\n",
    "--output-dir '/workspace/sunggu/1.Hemorrhage/SMART-Net/checkpoints/up_test' \\"
   ]
  },
  {
   "cell_type": "markdown",
   "id": "spatial-frontier",
   "metadata": {},
   "source": [
    "## Up_SMART_Net_Single_CLS"
   ]
  },
  {
   "cell_type": "code",
   "execution_count": null,
   "id": "sharp-checkout",
   "metadata": {},
   "outputs": [],
   "source": [
    "!python train.py \\\n",
    "--data-folder-dir '/workspace/sunggu/1.Hemorrhage/SMART-Net/datasets/samples' \\\n",
    "--model-name 'Up_SMART_Net_Single_CLS' \\\n",
    "--batch-size 10 \\\n",
    "--epochs 1000 \\\n",
    "--num-workers 4 \\\n",
    "--pin-mem \\\n",
    "--training-stream 'Upstream' \\\n",
    "--multi-gpu-mode 'DataParallel' \\\n",
    "--cuda-visible-devices '2, 3' \\\n",
    "--gradual-unfreeze 'True' \\\n",
    "--print-freq 1 \\\n",
    "--output-dir '/workspace/sunggu/1.Hemorrhage/SMART-Net/checkpoints/up_test' \\"
   ]
  },
  {
   "cell_type": "markdown",
   "id": "sustained-sugar",
   "metadata": {},
   "source": [
    "## Up_SMART_Net_Single_SEG"
   ]
  },
  {
   "cell_type": "code",
   "execution_count": null,
   "id": "judicial-absence",
   "metadata": {},
   "outputs": [],
   "source": [
    "!python train.py \\\n",
    "--data-folder-dir '/workspace/sunggu/1.Hemorrhage/SMART-Net/datasets/samples' \\\n",
    "--model-name 'Up_SMART_Net_Single_SEG' \\\n",
    "--batch-size 10 \\\n",
    "--epochs 1000 \\\n",
    "--num-workers 4 \\\n",
    "--pin-mem \\\n",
    "--training-stream 'Upstream' \\\n",
    "--multi-gpu-mode 'DataParallel' \\\n",
    "--cuda-visible-devices '2, 3' \\\n",
    "--gradual-unfreeze 'True' \\\n",
    "--print-freq 1 \\\n",
    "--output-dir '/workspace/sunggu/1.Hemorrhage/SMART-Net/checkpoints/up_test' \\"
   ]
  },
  {
   "cell_type": "markdown",
   "id": "included-management",
   "metadata": {},
   "source": [
    "## Up_SMART_Net_Single_REC"
   ]
  },
  {
   "cell_type": "code",
   "execution_count": null,
   "id": "selected-knitting",
   "metadata": {},
   "outputs": [],
   "source": [
    "!python train.py \\\n",
    "--data-folder-dir '/workspace/sunggu/1.Hemorrhage/SMART-Net/datasets/samples' \\\n",
    "--model-name 'Up_SMART_Net_Single_REC' \\\n",
    "--batch-size 10 \\\n",
    "--epochs 1000 \\\n",
    "--num-workers 4 \\\n",
    "--pin-mem \\\n",
    "--training-stream 'Upstream' \\\n",
    "--multi-gpu-mode 'DataParallel' \\\n",
    "--cuda-visible-devices '2, 3' \\\n",
    "--gradual-unfreeze 'True' \\\n",
    "--print-freq 1 \\\n",
    "--output-dir '/workspace/sunggu/1.Hemorrhage/SMART-Net/checkpoints/up_test' \\"
   ]
  },
  {
   "cell_type": "code",
   "execution_count": null,
   "id": "native-teddy",
   "metadata": {},
   "outputs": [],
   "source": []
  },
  {
   "cell_type": "markdown",
   "id": "unable-center",
   "metadata": {},
   "source": [
    "# Downstream"
   ]
  },
  {
   "cell_type": "code",
   "execution_count": null,
   "id": "educational-tobacco",
   "metadata": {},
   "outputs": [],
   "source": [
    "from arch.smart_net import *\n",
    "\n"
   ]
  },
  {
   "cell_type": "code",
   "execution_count": null,
   "id": "increasing-ballet",
   "metadata": {},
   "outputs": [],
   "source": [
    "model = Down_SMART_Net_CLS()"
   ]
  },
  {
   "cell_type": "markdown",
   "id": "entire-barbados",
   "metadata": {},
   "source": [
    "## Down_SMART_Net_CLS"
   ]
  },
  {
   "cell_type": "code",
   "execution_count": null,
   "id": "opponent-malawi",
   "metadata": {},
   "outputs": [],
   "source": [
    "!python train.py \\\n",
    "--data-folder-dir '/workspace/sunggu/1.Hemorrhage/SMART-Net/datasets/samples' \\\n",
    "--model-name 'Down_SMART_Net_CLS' \\\n",
    "--lr 5e-6 \\\n",
    "--min-lr 1e-7 \\\n",
    "--batch-size 2 \\\n",
    "--epochs 1000 \\\n",
    "--num-workers 4 \\\n",
    "--pin-mem \\\n",
    "--training-stream 'Downstream' \\\n",
    "--multi-gpu-mode 'Single' \\\n",
    "--cuda-visible-devices '2' \\\n",
    "--gradual-unfreeze 'True' \\\n",
    "--print-freq 1 \\\n",
    "--output-dir '/workspace/sunggu/1.Hemorrhage/SMART-Net/checkpoints/down_cls_test' \\\n",
    "--from-pretrained '/workspace/sunggu/1.Hemorrhage/SMART-Net/checkpoints/[UpTASK]ResNet50_ImageNet.pth' \\\n",
    "--load-weight-type 'encoder'"
   ]
  },
  {
   "cell_type": "code",
   "execution_count": null,
   "id": "monthly-neighborhood",
   "metadata": {},
   "outputs": [],
   "source": []
  },
  {
   "cell_type": "markdown",
   "id": "pacific-ranking",
   "metadata": {},
   "source": [
    "## Down_SMART_Net_SEG"
   ]
  },
  {
   "cell_type": "code",
   "execution_count": null,
   "id": "furnished-serum",
   "metadata": {
    "scrolled": true
   },
   "outputs": [],
   "source": [
    "!python train.py \\\n",
    "--data-folder-dir '/workspace/sunggu/1.Hemorrhage/SMART-Net/datasets/samples' \\\n",
    "--model-name 'Down_SMART_Net_SEG' \\\n",
    "--lr 5e-6 \\\n",
    "--min-lr 1e-7 \\\n",
    "--batch-size 1 \\\n",
    "--epochs 1000 \\\n",
    "--num-workers 4 \\\n",
    "--pin-mem \\\n",
    "--training-stream 'Downstream' \\\n",
    "--multi-gpu-mode 'Single' \\\n",
    "--cuda-visible-devices '2' \\\n",
    "--gradual-unfreeze 'True' \\\n",
    "--print-freq 1 \\\n",
    "--output-dir '/workspace/sunggu/1.Hemorrhage/SMART-Net/checkpoints/down_seg_test' \\\n",
    "--from-pretrained '/workspace/sunggu/1.Hemorrhage/SMART-Net/up_test/epoch_0_checkpoint.pth' \\\n",
    "--load-weight-type 'encoder'"
   ]
  },
  {
   "cell_type": "code",
   "execution_count": null,
   "id": "thirty-exhibition",
   "metadata": {},
   "outputs": [],
   "source": []
  },
  {
   "cell_type": "markdown",
   "id": "dirty-chamber",
   "metadata": {},
   "source": [
    "# Log Analysis"
   ]
  },
  {
   "cell_type": "code",
   "execution_count": null,
   "id": "regular-apparatus",
   "metadata": {},
   "outputs": [],
   "source": [
    "import matplotlib.pyplot as plt \n",
    "import glob\n",
    "\n",
    "\n",
    "def read_log(path):\n",
    "    log_list = []\n",
    "    lines = open(path, 'r').read().splitlines() \n",
    "    for i in range(len(lines)):\n",
    "        exec('log_list.append('+lines[i] + ')')\n",
    "    return  log_list"
   ]
  },
  {
   "cell_type": "code",
   "execution_count": null,
   "id": "objective-model",
   "metadata": {},
   "outputs": [],
   "source": [
    "log_list = read_log(path = './log.txt')"
   ]
  },
  {
   "cell_type": "code",
   "execution_count": null,
   "id": "fiscal-snapshot",
   "metadata": {},
   "outputs": [],
   "source": [
    "log_list"
   ]
  },
  {
   "cell_type": "code",
   "execution_count": null,
   "id": "finished-acrobat",
   "metadata": {},
   "outputs": [],
   "source": [
    "train_lr   = [ log_list[i]['train_lr'] for i in range(len(log_list)) ]\n",
    "train_loss = [ log_list[i]['train_loss'] for i in range(len(log_list)) ]\n",
    "valid_loss = [ log_list[i]['valid_loss'] for i in range(len(log_list)) ]\n",
    "valid_AUC  = [ log_list[i]['valid_auc'] for i in range(len(log_list)) ]\n",
    "valid_F1   = [ log_list[i]['valid_f1'] for i in range(len(log_list)) ]\n",
    "valid_Sen  = [ log_list[i]['valid_sen'] for i in range(len(log_list)) ]\n",
    "valid_Spe  = [ log_list[i]['valid_spe'] for i in range(len(log_list)) ]\n",
    "epoch      = [ log_list[i]['epoch'] for i in range(len(log_list)) ]"
   ]
  },
  {
   "cell_type": "code",
   "execution_count": null,
   "id": "innocent-reynolds",
   "metadata": {},
   "outputs": [],
   "source": [
    "plt.plot(train_loss)"
   ]
  },
  {
   "cell_type": "code",
   "execution_count": null,
   "id": "latin-dealing",
   "metadata": {},
   "outputs": [],
   "source": []
  },
  {
   "cell_type": "code",
   "execution_count": null,
   "id": "geographic-landscape",
   "metadata": {},
   "outputs": [],
   "source": []
  },
  {
   "cell_type": "code",
   "execution_count": null,
   "id": "skilled-poetry",
   "metadata": {},
   "outputs": [],
   "source": []
  },
  {
   "cell_type": "code",
   "execution_count": null,
   "id": "lovely-navigator",
   "metadata": {},
   "outputs": [],
   "source": []
  }
 ],
 "metadata": {
  "kernelspec": {
   "display_name": "Python 3",
   "language": "python",
   "name": "python3"
  },
  "language_info": {
   "codemirror_mode": {
    "name": "ipython",
    "version": 3
   },
   "file_extension": ".py",
   "mimetype": "text/x-python",
   "name": "python",
   "nbconvert_exporter": "python",
   "pygments_lexer": "ipython3",
   "version": "3.6.9"
  },
  "toc": {
   "base_numbering": 1,
   "nav_menu": {},
   "number_sections": true,
   "sideBar": true,
   "skip_h1_title": false,
   "title_cell": "Table of Contents",
   "title_sidebar": "Contents",
   "toc_cell": false,
   "toc_position": {
    "height": "calc(100% - 180px)",
    "left": "10px",
    "top": "150px",
    "width": "267.094px"
   },
   "toc_section_display": true,
   "toc_window_display": true
  }
 },
 "nbformat": 4,
 "nbformat_minor": 5
}
